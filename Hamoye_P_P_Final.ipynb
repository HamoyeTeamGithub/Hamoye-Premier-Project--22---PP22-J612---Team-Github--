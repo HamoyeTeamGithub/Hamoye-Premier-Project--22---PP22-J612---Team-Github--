{
 "cells": [
  {
   "cell_type": "code",
   "execution_count": 1,
   "id": "aecaaf64",
   "metadata": {},
   "outputs": [],
   "source": [
    "import pandas as pd\n",
    "import numpy as np"
   ]
  },
  {
   "cell_type": "markdown",
   "id": "d445c713",
   "metadata": {},
   "source": [
    "## DATA CLEANING PHASE"
   ]
  },
  {
   "cell_type": "markdown",
   "id": "subsequent-speech",
   "metadata": {},
   "source": [
    "**IMPORTING THE DATA**"
   ]
  },
  {
   "cell_type": "code",
   "execution_count": 2,
   "id": "45784e5b",
   "metadata": {},
   "outputs": [
    {
     "data": {
      "text/html": [
       "<div>\n",
       "<style scoped>\n",
       "    .dataframe tbody tr th:only-of-type {\n",
       "        vertical-align: middle;\n",
       "    }\n",
       "\n",
       "    .dataframe tbody tr th {\n",
       "        vertical-align: top;\n",
       "    }\n",
       "\n",
       "    .dataframe thead th {\n",
       "        text-align: right;\n",
       "    }\n",
       "</style>\n",
       "<table border=\"1\" class=\"dataframe\">\n",
       "  <thead>\n",
       "    <tr style=\"text-align: right;\">\n",
       "      <th></th>\n",
       "      <th>Employee ID</th>\n",
       "      <th>Date of Joining</th>\n",
       "      <th>Gender</th>\n",
       "      <th>Company Type</th>\n",
       "      <th>WFH Setup Available</th>\n",
       "      <th>Designation</th>\n",
       "      <th>Resource Allocation</th>\n",
       "      <th>Mental Fatigue Score</th>\n",
       "    </tr>\n",
       "  </thead>\n",
       "  <tbody>\n",
       "    <tr>\n",
       "      <th>0</th>\n",
       "      <td>fffe31003300390039003000</td>\n",
       "      <td>2008-12-10</td>\n",
       "      <td>Female</td>\n",
       "      <td>Service</td>\n",
       "      <td>No</td>\n",
       "      <td>2.0</td>\n",
       "      <td>5.0</td>\n",
       "      <td>7.7</td>\n",
       "    </tr>\n",
       "    <tr>\n",
       "      <th>1</th>\n",
       "      <td>fffe31003300310037003800</td>\n",
       "      <td>2008-08-14</td>\n",
       "      <td>Female</td>\n",
       "      <td>Product</td>\n",
       "      <td>Yes</td>\n",
       "      <td>1.0</td>\n",
       "      <td>2.0</td>\n",
       "      <td>5.2</td>\n",
       "    </tr>\n",
       "    <tr>\n",
       "      <th>2</th>\n",
       "      <td>fffe33003400380035003900</td>\n",
       "      <td>2008-11-13</td>\n",
       "      <td>Male</td>\n",
       "      <td>Product</td>\n",
       "      <td>Yes</td>\n",
       "      <td>1.0</td>\n",
       "      <td>3.0</td>\n",
       "      <td>5.9</td>\n",
       "    </tr>\n",
       "    <tr>\n",
       "      <th>3</th>\n",
       "      <td>fffe3100370039003200</td>\n",
       "      <td>2008-02-07</td>\n",
       "      <td>Female</td>\n",
       "      <td>Service</td>\n",
       "      <td>No</td>\n",
       "      <td>3.0</td>\n",
       "      <td>6.0</td>\n",
       "      <td>4.6</td>\n",
       "    </tr>\n",
       "    <tr>\n",
       "      <th>4</th>\n",
       "      <td>fffe32003600390036003700</td>\n",
       "      <td>2008-07-17</td>\n",
       "      <td>Female</td>\n",
       "      <td>Product</td>\n",
       "      <td>No</td>\n",
       "      <td>2.0</td>\n",
       "      <td>5.0</td>\n",
       "      <td>6.4</td>\n",
       "    </tr>\n",
       "  </tbody>\n",
       "</table>\n",
       "</div>"
      ],
      "text/plain": [
       "                Employee ID Date of Joining  Gender Company Type  \\\n",
       "0  fffe31003300390039003000      2008-12-10  Female      Service   \n",
       "1  fffe31003300310037003800      2008-08-14  Female      Product   \n",
       "2  fffe33003400380035003900      2008-11-13    Male      Product   \n",
       "3      fffe3100370039003200      2008-02-07  Female      Service   \n",
       "4  fffe32003600390036003700      2008-07-17  Female      Product   \n",
       "\n",
       "  WFH Setup Available  Designation  Resource Allocation  Mental Fatigue Score  \n",
       "0                  No          2.0                  5.0                   7.7  \n",
       "1                 Yes          1.0                  2.0                   5.2  \n",
       "2                 Yes          1.0                  3.0                   5.9  \n",
       "3                  No          3.0                  6.0                   4.6  \n",
       "4                  No          2.0                  5.0                   6.4  "
      ]
     },
     "execution_count": 2,
     "metadata": {},
     "output_type": "execute_result"
    }
   ],
   "source": [
    "test = pd.read_csv(\"test.csv\")\n",
    "test.head()"
   ]
  },
  {
   "cell_type": "code",
   "execution_count": 3,
   "id": "6f8d2e56",
   "metadata": {},
   "outputs": [
    {
     "data": {
      "text/html": [
       "<div>\n",
       "<style scoped>\n",
       "    .dataframe tbody tr th:only-of-type {\n",
       "        vertical-align: middle;\n",
       "    }\n",
       "\n",
       "    .dataframe tbody tr th {\n",
       "        vertical-align: top;\n",
       "    }\n",
       "\n",
       "    .dataframe thead th {\n",
       "        text-align: right;\n",
       "    }\n",
       "</style>\n",
       "<table border=\"1\" class=\"dataframe\">\n",
       "  <thead>\n",
       "    <tr style=\"text-align: right;\">\n",
       "      <th></th>\n",
       "      <th>Employee ID</th>\n",
       "      <th>Date of Joining</th>\n",
       "      <th>Gender</th>\n",
       "      <th>Company Type</th>\n",
       "      <th>WFH Setup Available</th>\n",
       "      <th>Designation</th>\n",
       "      <th>Resource Allocation</th>\n",
       "      <th>Mental Fatigue Score</th>\n",
       "      <th>Burn Rate</th>\n",
       "    </tr>\n",
       "  </thead>\n",
       "  <tbody>\n",
       "    <tr>\n",
       "      <th>0</th>\n",
       "      <td>fffe32003000360033003200</td>\n",
       "      <td>2008-09-30</td>\n",
       "      <td>Female</td>\n",
       "      <td>Service</td>\n",
       "      <td>No</td>\n",
       "      <td>2.0</td>\n",
       "      <td>3.0</td>\n",
       "      <td>3.8</td>\n",
       "      <td>0.16</td>\n",
       "    </tr>\n",
       "    <tr>\n",
       "      <th>1</th>\n",
       "      <td>fffe3700360033003500</td>\n",
       "      <td>2008-11-30</td>\n",
       "      <td>Male</td>\n",
       "      <td>Service</td>\n",
       "      <td>Yes</td>\n",
       "      <td>1.0</td>\n",
       "      <td>2.0</td>\n",
       "      <td>5.0</td>\n",
       "      <td>0.36</td>\n",
       "    </tr>\n",
       "    <tr>\n",
       "      <th>2</th>\n",
       "      <td>fffe31003300320037003900</td>\n",
       "      <td>2008-03-10</td>\n",
       "      <td>Female</td>\n",
       "      <td>Product</td>\n",
       "      <td>Yes</td>\n",
       "      <td>2.0</td>\n",
       "      <td>NaN</td>\n",
       "      <td>5.8</td>\n",
       "      <td>0.49</td>\n",
       "    </tr>\n",
       "    <tr>\n",
       "      <th>3</th>\n",
       "      <td>fffe32003400380032003900</td>\n",
       "      <td>2008-11-03</td>\n",
       "      <td>Male</td>\n",
       "      <td>Service</td>\n",
       "      <td>Yes</td>\n",
       "      <td>1.0</td>\n",
       "      <td>1.0</td>\n",
       "      <td>2.6</td>\n",
       "      <td>0.20</td>\n",
       "    </tr>\n",
       "    <tr>\n",
       "      <th>4</th>\n",
       "      <td>fffe31003900340031003600</td>\n",
       "      <td>2008-07-24</td>\n",
       "      <td>Female</td>\n",
       "      <td>Service</td>\n",
       "      <td>No</td>\n",
       "      <td>3.0</td>\n",
       "      <td>7.0</td>\n",
       "      <td>6.9</td>\n",
       "      <td>0.52</td>\n",
       "    </tr>\n",
       "  </tbody>\n",
       "</table>\n",
       "</div>"
      ],
      "text/plain": [
       "                Employee ID Date of Joining  Gender Company Type  \\\n",
       "0  fffe32003000360033003200      2008-09-30  Female      Service   \n",
       "1      fffe3700360033003500      2008-11-30    Male      Service   \n",
       "2  fffe31003300320037003900      2008-03-10  Female      Product   \n",
       "3  fffe32003400380032003900      2008-11-03    Male      Service   \n",
       "4  fffe31003900340031003600      2008-07-24  Female      Service   \n",
       "\n",
       "  WFH Setup Available  Designation  Resource Allocation  Mental Fatigue Score  \\\n",
       "0                  No          2.0                  3.0                   3.8   \n",
       "1                 Yes          1.0                  2.0                   5.0   \n",
       "2                 Yes          2.0                  NaN                   5.8   \n",
       "3                 Yes          1.0                  1.0                   2.6   \n",
       "4                  No          3.0                  7.0                   6.9   \n",
       "\n",
       "   Burn Rate  \n",
       "0       0.16  \n",
       "1       0.36  \n",
       "2       0.49  \n",
       "3       0.20  \n",
       "4       0.52  "
      ]
     },
     "execution_count": 3,
     "metadata": {},
     "output_type": "execute_result"
    }
   ],
   "source": [
    "train = pd.read_csv(\"train.csv\")\n",
    "train.head()"
   ]
  },
  {
   "cell_type": "markdown",
   "id": "d5c5b8a8",
   "metadata": {},
   "source": [
    "### EXPLORING THE DATASETS"
   ]
  },
  {
   "cell_type": "code",
   "execution_count": 4,
   "id": "feaf7628",
   "metadata": {},
   "outputs": [
    {
     "data": {
      "text/plain": [
       "(Index(['Employee ID', 'Date of Joining', 'Gender', 'Company Type',\n",
       "        'WFH Setup Available', 'Designation', 'Resource Allocation',\n",
       "        'Mental Fatigue Score'],\n",
       "       dtype='object'),\n",
       " Index(['Employee ID', 'Date of Joining', 'Gender', 'Company Type',\n",
       "        'WFH Setup Available', 'Designation', 'Resource Allocation',\n",
       "        'Mental Fatigue Score', 'Burn Rate'],\n",
       "       dtype='object'))"
      ]
     },
     "execution_count": 4,
     "metadata": {},
     "output_type": "execute_result"
    }
   ],
   "source": [
    "test.columns, train.columns"
   ]
  },
  {
   "cell_type": "code",
   "execution_count": 5,
   "id": "21cd022c",
   "metadata": {},
   "outputs": [
    {
     "data": {
      "text/html": [
       "<div>\n",
       "<style scoped>\n",
       "    .dataframe tbody tr th:only-of-type {\n",
       "        vertical-align: middle;\n",
       "    }\n",
       "\n",
       "    .dataframe tbody tr th {\n",
       "        vertical-align: top;\n",
       "    }\n",
       "\n",
       "    .dataframe thead th {\n",
       "        text-align: right;\n",
       "    }\n",
       "</style>\n",
       "<table border=\"1\" class=\"dataframe\">\n",
       "  <thead>\n",
       "    <tr style=\"text-align: right;\">\n",
       "      <th></th>\n",
       "      <th>Employee ID</th>\n",
       "      <th>Date of Joining</th>\n",
       "      <th>Gender</th>\n",
       "      <th>Company Type</th>\n",
       "      <th>WFH Setup Available</th>\n",
       "      <th>Designation</th>\n",
       "      <th>Resource Allocation</th>\n",
       "      <th>Mental Fatigue Score</th>\n",
       "      <th>Burn Rate</th>\n",
       "    </tr>\n",
       "  </thead>\n",
       "  <tbody>\n",
       "    <tr>\n",
       "      <th>0</th>\n",
       "      <td>fffe32003000360033003200</td>\n",
       "      <td>2008-09-30</td>\n",
       "      <td>Female</td>\n",
       "      <td>Service</td>\n",
       "      <td>No</td>\n",
       "      <td>2.0</td>\n",
       "      <td>3.0</td>\n",
       "      <td>3.8</td>\n",
       "      <td>0.16</td>\n",
       "    </tr>\n",
       "    <tr>\n",
       "      <th>1</th>\n",
       "      <td>fffe3700360033003500</td>\n",
       "      <td>2008-11-30</td>\n",
       "      <td>Male</td>\n",
       "      <td>Service</td>\n",
       "      <td>Yes</td>\n",
       "      <td>1.0</td>\n",
       "      <td>2.0</td>\n",
       "      <td>5.0</td>\n",
       "      <td>0.36</td>\n",
       "    </tr>\n",
       "    <tr>\n",
       "      <th>2</th>\n",
       "      <td>fffe31003300320037003900</td>\n",
       "      <td>2008-03-10</td>\n",
       "      <td>Female</td>\n",
       "      <td>Product</td>\n",
       "      <td>Yes</td>\n",
       "      <td>2.0</td>\n",
       "      <td>NaN</td>\n",
       "      <td>5.8</td>\n",
       "      <td>0.49</td>\n",
       "    </tr>\n",
       "    <tr>\n",
       "      <th>3</th>\n",
       "      <td>fffe32003400380032003900</td>\n",
       "      <td>2008-11-03</td>\n",
       "      <td>Male</td>\n",
       "      <td>Service</td>\n",
       "      <td>Yes</td>\n",
       "      <td>1.0</td>\n",
       "      <td>1.0</td>\n",
       "      <td>2.6</td>\n",
       "      <td>0.20</td>\n",
       "    </tr>\n",
       "    <tr>\n",
       "      <th>4</th>\n",
       "      <td>fffe31003900340031003600</td>\n",
       "      <td>2008-07-24</td>\n",
       "      <td>Female</td>\n",
       "      <td>Service</td>\n",
       "      <td>No</td>\n",
       "      <td>3.0</td>\n",
       "      <td>7.0</td>\n",
       "      <td>6.9</td>\n",
       "      <td>0.52</td>\n",
       "    </tr>\n",
       "  </tbody>\n",
       "</table>\n",
       "</div>"
      ],
      "text/plain": [
       "                Employee ID Date of Joining  Gender Company Type  \\\n",
       "0  fffe32003000360033003200      2008-09-30  Female      Service   \n",
       "1      fffe3700360033003500      2008-11-30    Male      Service   \n",
       "2  fffe31003300320037003900      2008-03-10  Female      Product   \n",
       "3  fffe32003400380032003900      2008-11-03    Male      Service   \n",
       "4  fffe31003900340031003600      2008-07-24  Female      Service   \n",
       "\n",
       "  WFH Setup Available  Designation  Resource Allocation  Mental Fatigue Score  \\\n",
       "0                  No          2.0                  3.0                   3.8   \n",
       "1                 Yes          1.0                  2.0                   5.0   \n",
       "2                 Yes          2.0                  NaN                   5.8   \n",
       "3                 Yes          1.0                  1.0                   2.6   \n",
       "4                  No          3.0                  7.0                   6.9   \n",
       "\n",
       "   Burn Rate  \n",
       "0       0.16  \n",
       "1       0.36  \n",
       "2       0.49  \n",
       "3       0.20  \n",
       "4       0.52  "
      ]
     },
     "execution_count": 5,
     "metadata": {},
     "output_type": "execute_result"
    }
   ],
   "source": [
    "df = train.copy()\n",
    "df.head()"
   ]
  },
  {
   "cell_type": "code",
   "execution_count": 6,
   "id": "b98eceee",
   "metadata": {},
   "outputs": [
    {
     "data": {
      "text/html": [
       "<div>\n",
       "<style scoped>\n",
       "    .dataframe tbody tr th:only-of-type {\n",
       "        vertical-align: middle;\n",
       "    }\n",
       "\n",
       "    .dataframe tbody tr th {\n",
       "        vertical-align: top;\n",
       "    }\n",
       "\n",
       "    .dataframe thead th {\n",
       "        text-align: right;\n",
       "    }\n",
       "</style>\n",
       "<table border=\"1\" class=\"dataframe\">\n",
       "  <thead>\n",
       "    <tr style=\"text-align: right;\">\n",
       "      <th></th>\n",
       "      <th>count</th>\n",
       "      <th>unique</th>\n",
       "      <th>top</th>\n",
       "      <th>freq</th>\n",
       "      <th>mean</th>\n",
       "      <th>std</th>\n",
       "      <th>min</th>\n",
       "      <th>25%</th>\n",
       "      <th>50%</th>\n",
       "      <th>75%</th>\n",
       "      <th>max</th>\n",
       "    </tr>\n",
       "  </thead>\n",
       "  <tbody>\n",
       "    <tr>\n",
       "      <th>Employee ID</th>\n",
       "      <td>22750</td>\n",
       "      <td>22750</td>\n",
       "      <td>fffe32003900320032003900</td>\n",
       "      <td>1</td>\n",
       "      <td>NaN</td>\n",
       "      <td>NaN</td>\n",
       "      <td>NaN</td>\n",
       "      <td>NaN</td>\n",
       "      <td>NaN</td>\n",
       "      <td>NaN</td>\n",
       "      <td>NaN</td>\n",
       "    </tr>\n",
       "    <tr>\n",
       "      <th>Date of Joining</th>\n",
       "      <td>22750</td>\n",
       "      <td>366</td>\n",
       "      <td>2008-01-06</td>\n",
       "      <td>86</td>\n",
       "      <td>NaN</td>\n",
       "      <td>NaN</td>\n",
       "      <td>NaN</td>\n",
       "      <td>NaN</td>\n",
       "      <td>NaN</td>\n",
       "      <td>NaN</td>\n",
       "      <td>NaN</td>\n",
       "    </tr>\n",
       "    <tr>\n",
       "      <th>Gender</th>\n",
       "      <td>22750</td>\n",
       "      <td>2</td>\n",
       "      <td>Female</td>\n",
       "      <td>11908</td>\n",
       "      <td>NaN</td>\n",
       "      <td>NaN</td>\n",
       "      <td>NaN</td>\n",
       "      <td>NaN</td>\n",
       "      <td>NaN</td>\n",
       "      <td>NaN</td>\n",
       "      <td>NaN</td>\n",
       "    </tr>\n",
       "    <tr>\n",
       "      <th>Company Type</th>\n",
       "      <td>22750</td>\n",
       "      <td>2</td>\n",
       "      <td>Service</td>\n",
       "      <td>14833</td>\n",
       "      <td>NaN</td>\n",
       "      <td>NaN</td>\n",
       "      <td>NaN</td>\n",
       "      <td>NaN</td>\n",
       "      <td>NaN</td>\n",
       "      <td>NaN</td>\n",
       "      <td>NaN</td>\n",
       "    </tr>\n",
       "    <tr>\n",
       "      <th>WFH Setup Available</th>\n",
       "      <td>22750</td>\n",
       "      <td>2</td>\n",
       "      <td>Yes</td>\n",
       "      <td>12290</td>\n",
       "      <td>NaN</td>\n",
       "      <td>NaN</td>\n",
       "      <td>NaN</td>\n",
       "      <td>NaN</td>\n",
       "      <td>NaN</td>\n",
       "      <td>NaN</td>\n",
       "      <td>NaN</td>\n",
       "    </tr>\n",
       "    <tr>\n",
       "      <th>Designation</th>\n",
       "      <td>22750</td>\n",
       "      <td>NaN</td>\n",
       "      <td>NaN</td>\n",
       "      <td>NaN</td>\n",
       "      <td>2.17873</td>\n",
       "      <td>1.13514</td>\n",
       "      <td>0</td>\n",
       "      <td>1</td>\n",
       "      <td>2</td>\n",
       "      <td>3</td>\n",
       "      <td>5</td>\n",
       "    </tr>\n",
       "    <tr>\n",
       "      <th>Resource Allocation</th>\n",
       "      <td>21369</td>\n",
       "      <td>NaN</td>\n",
       "      <td>NaN</td>\n",
       "      <td>NaN</td>\n",
       "      <td>4.4814</td>\n",
       "      <td>2.04721</td>\n",
       "      <td>1</td>\n",
       "      <td>3</td>\n",
       "      <td>4</td>\n",
       "      <td>6</td>\n",
       "      <td>10</td>\n",
       "    </tr>\n",
       "    <tr>\n",
       "      <th>Mental Fatigue Score</th>\n",
       "      <td>20633</td>\n",
       "      <td>NaN</td>\n",
       "      <td>NaN</td>\n",
       "      <td>NaN</td>\n",
       "      <td>5.72819</td>\n",
       "      <td>1.92084</td>\n",
       "      <td>0</td>\n",
       "      <td>4.6</td>\n",
       "      <td>5.9</td>\n",
       "      <td>7.1</td>\n",
       "      <td>10</td>\n",
       "    </tr>\n",
       "    <tr>\n",
       "      <th>Burn Rate</th>\n",
       "      <td>21626</td>\n",
       "      <td>NaN</td>\n",
       "      <td>NaN</td>\n",
       "      <td>NaN</td>\n",
       "      <td>0.452005</td>\n",
       "      <td>0.198226</td>\n",
       "      <td>0</td>\n",
       "      <td>0.31</td>\n",
       "      <td>0.45</td>\n",
       "      <td>0.59</td>\n",
       "      <td>1</td>\n",
       "    </tr>\n",
       "  </tbody>\n",
       "</table>\n",
       "</div>"
      ],
      "text/plain": [
       "                      count unique                       top   freq      mean  \\\n",
       "Employee ID           22750  22750  fffe32003900320032003900      1       NaN   \n",
       "Date of Joining       22750    366                2008-01-06     86       NaN   \n",
       "Gender                22750      2                    Female  11908       NaN   \n",
       "Company Type          22750      2                   Service  14833       NaN   \n",
       "WFH Setup Available   22750      2                       Yes  12290       NaN   \n",
       "Designation           22750    NaN                       NaN    NaN   2.17873   \n",
       "Resource Allocation   21369    NaN                       NaN    NaN    4.4814   \n",
       "Mental Fatigue Score  20633    NaN                       NaN    NaN   5.72819   \n",
       "Burn Rate             21626    NaN                       NaN    NaN  0.452005   \n",
       "\n",
       "                           std  min   25%   50%   75%  max  \n",
       "Employee ID                NaN  NaN   NaN   NaN   NaN  NaN  \n",
       "Date of Joining            NaN  NaN   NaN   NaN   NaN  NaN  \n",
       "Gender                     NaN  NaN   NaN   NaN   NaN  NaN  \n",
       "Company Type               NaN  NaN   NaN   NaN   NaN  NaN  \n",
       "WFH Setup Available        NaN  NaN   NaN   NaN   NaN  NaN  \n",
       "Designation            1.13514    0     1     2     3    5  \n",
       "Resource Allocation    2.04721    1     3     4     6   10  \n",
       "Mental Fatigue Score   1.92084    0   4.6   5.9   7.1   10  \n",
       "Burn Rate             0.198226    0  0.31  0.45  0.59    1  "
      ]
     },
     "execution_count": 6,
     "metadata": {},
     "output_type": "execute_result"
    }
   ],
   "source": [
    "df.describe(include='all').T"
   ]
  },
  {
   "cell_type": "code",
   "execution_count": 7,
   "id": "80abc908",
   "metadata": {},
   "outputs": [
    {
     "name": "stdout",
     "output_type": "stream",
     "text": [
      "<class 'pandas.core.frame.DataFrame'>\n",
      "RangeIndex: 22750 entries, 0 to 22749\n",
      "Data columns (total 9 columns):\n",
      " #   Column                Non-Null Count  Dtype  \n",
      "---  ------                --------------  -----  \n",
      " 0   Employee ID           22750 non-null  object \n",
      " 1   Date of Joining       22750 non-null  object \n",
      " 2   Gender                22750 non-null  object \n",
      " 3   Company Type          22750 non-null  object \n",
      " 4   WFH Setup Available   22750 non-null  object \n",
      " 5   Designation           22750 non-null  float64\n",
      " 6   Resource Allocation   21369 non-null  float64\n",
      " 7   Mental Fatigue Score  20633 non-null  float64\n",
      " 8   Burn Rate             21626 non-null  float64\n",
      "dtypes: float64(4), object(5)\n",
      "memory usage: 1.6+ MB\n"
     ]
    }
   ],
   "source": [
    "df.info()"
   ]
  },
  {
   "cell_type": "markdown",
   "id": "9154897b",
   "metadata": {},
   "source": [
    "### CLEANING PROCESS"
   ]
  },
  {
   "cell_type": "markdown",
   "id": "3a1b6cfd",
   "metadata": {},
   "source": [
    "**RE-ORGANIZING THE COLUMN NAMES TO BE LOWER CASES SEPERATED BY UNDERSCORE \"-\"**"
   ]
  },
  {
   "cell_type": "code",
   "execution_count": 8,
   "id": "76f5aeec",
   "metadata": {},
   "outputs": [
    {
     "data": {
      "text/plain": [
       "Index(['Employee ID', 'Date of Joining', 'Gender', 'Company Type',\n",
       "       'WFH Setup Available', 'Designation', 'Resource Allocation',\n",
       "       'Mental Fatigue Score', 'Burn Rate'],\n",
       "      dtype='object')"
      ]
     },
     "execution_count": 8,
     "metadata": {},
     "output_type": "execute_result"
    }
   ],
   "source": [
    "df.columns"
   ]
  },
  {
   "cell_type": "code",
   "execution_count": 9,
   "id": "573aa5a6",
   "metadata": {},
   "outputs": [
    {
     "data": {
      "text/plain": [
       "Index(['employee_id', 'date_of_joining', 'gender', 'company_type',\n",
       "       'wfh_setup_available', 'designation', 'resource_allocation',\n",
       "       'mental_fatigue_score', 'burn_rate'],\n",
       "      dtype='object')"
      ]
     },
     "execution_count": 9,
     "metadata": {},
     "output_type": "execute_result"
    }
   ],
   "source": [
    "# change column names to lower case for better parsing\n",
    "df.columns = [i.strip().lower().replace(\" \", \"_\") for i in df.columns]\n",
    "test.columns = [i.strip().lower().replace(\" \", \"_\") for i in test.columns]\n",
    "df.columns"
   ]
  },
  {
   "cell_type": "code",
   "execution_count": 10,
   "id": "competent-newfoundland",
   "metadata": {},
   "outputs": [
    {
     "name": "stdout",
     "output_type": "stream",
     "text": [
      "Dimension of train dataset (22750, 9)\n",
      "Dimension of test dataset (12250, 8)\n"
     ]
    }
   ],
   "source": [
    "print(f'Dimension of train dataset {df.shape}')\n",
    "print(f'Dimension of test dataset {test.shape}')"
   ]
  },
  {
   "cell_type": "markdown",
   "id": "7916af40",
   "metadata": {},
   "source": [
    "**CHECKING FOR MISSING VALUES** "
   ]
  },
  {
   "cell_type": "code",
   "execution_count": 12,
   "id": "bb188c64",
   "metadata": {},
   "outputs": [
    {
     "data": {
      "text/plain": [
       "employee_id                0\n",
       "date_of_joining            0\n",
       "gender                     0\n",
       "company_type               0\n",
       "wfh_setup_available        0\n",
       "designation                0\n",
       "resource_allocation     1381\n",
       "mental_fatigue_score    2117\n",
       "burn_rate               1124\n",
       "dtype: int64"
      ]
     },
     "execution_count": 12,
     "metadata": {},
     "output_type": "execute_result"
    }
   ],
   "source": [
    "df.isna().sum()"
   ]
  },
  {
   "cell_type": "code",
   "execution_count": 11,
   "id": "informed-separation",
   "metadata": {},
   "outputs": [
    {
     "data": {
      "text/plain": [
       "False"
      ]
     },
     "execution_count": 11,
     "metadata": {},
     "output_type": "execute_result"
    }
   ],
   "source": [
    "test.isna().values.any()"
   ]
  },
  {
   "cell_type": "code",
   "execution_count": 12,
   "id": "other-company",
   "metadata": {},
   "outputs": [
    {
     "data": {
      "text/html": [
       "<div>\n",
       "<style scoped>\n",
       "    .dataframe tbody tr th:only-of-type {\n",
       "        vertical-align: middle;\n",
       "    }\n",
       "\n",
       "    .dataframe tbody tr th {\n",
       "        vertical-align: top;\n",
       "    }\n",
       "\n",
       "    .dataframe thead th {\n",
       "        text-align: right;\n",
       "    }\n",
       "</style>\n",
       "<table border=\"1\" class=\"dataframe\">\n",
       "  <thead>\n",
       "    <tr style=\"text-align: right;\">\n",
       "      <th></th>\n",
       "      <th>Total</th>\n",
       "      <th>Percent</th>\n",
       "    </tr>\n",
       "  </thead>\n",
       "  <tbody>\n",
       "    <tr>\n",
       "      <th>mental_fatigue_score</th>\n",
       "      <td>2117</td>\n",
       "      <td>9.305495</td>\n",
       "    </tr>\n",
       "    <tr>\n",
       "      <th>resource_allocation</th>\n",
       "      <td>1381</td>\n",
       "      <td>6.070330</td>\n",
       "    </tr>\n",
       "    <tr>\n",
       "      <th>burn_rate</th>\n",
       "      <td>1124</td>\n",
       "      <td>4.940659</td>\n",
       "    </tr>\n",
       "    <tr>\n",
       "      <th>designation</th>\n",
       "      <td>0</td>\n",
       "      <td>0.000000</td>\n",
       "    </tr>\n",
       "    <tr>\n",
       "      <th>wfh_setup_available</th>\n",
       "      <td>0</td>\n",
       "      <td>0.000000</td>\n",
       "    </tr>\n",
       "    <tr>\n",
       "      <th>company_type</th>\n",
       "      <td>0</td>\n",
       "      <td>0.000000</td>\n",
       "    </tr>\n",
       "    <tr>\n",
       "      <th>gender</th>\n",
       "      <td>0</td>\n",
       "      <td>0.000000</td>\n",
       "    </tr>\n",
       "    <tr>\n",
       "      <th>date_of_joining</th>\n",
       "      <td>0</td>\n",
       "      <td>0.000000</td>\n",
       "    </tr>\n",
       "    <tr>\n",
       "      <th>employee_id</th>\n",
       "      <td>0</td>\n",
       "      <td>0.000000</td>\n",
       "    </tr>\n",
       "  </tbody>\n",
       "</table>\n",
       "</div>"
      ],
      "text/plain": [
       "                      Total   Percent\n",
       "mental_fatigue_score   2117  9.305495\n",
       "resource_allocation    1381  6.070330\n",
       "burn_rate              1124  4.940659\n",
       "designation               0  0.000000\n",
       "wfh_setup_available       0  0.000000\n",
       "company_type              0  0.000000\n",
       "gender                    0  0.000000\n",
       "date_of_joining           0  0.000000\n",
       "employee_id               0  0.000000"
      ]
     },
     "execution_count": 12,
     "metadata": {},
     "output_type": "execute_result"
    }
   ],
   "source": [
    "# Checking for percentage of missing values in train dataset\n",
    "total = df.isnull().sum().sort_values(ascending = False)\n",
    "percent = (df.isnull().sum()/df.isnull().count()*100).sort_values(ascending = False)\n",
    "tmp = pd.concat([total, percent], axis=1, keys=['Total', 'Percent'])\n",
    "tmp"
   ]
  },
  {
   "cell_type": "markdown",
   "id": "expressed-copyright",
   "metadata": {},
   "source": [
    "**DEALING WITH MISSING VALUES USING KNN IMPUTER**"
   ]
  },
  {
   "cell_type": "code",
   "execution_count": 13,
   "id": "comfortable-toner",
   "metadata": {},
   "outputs": [],
   "source": [
    "from sklearn.impute import KNNImputer"
   ]
  },
  {
   "cell_type": "code",
   "execution_count": 14,
   "id": "figured-burning",
   "metadata": {},
   "outputs": [],
   "source": [
    "imputer = KNNImputer(n_neighbors=5, missing_values=np.nan)\n",
    "imputer = imputer.fit(df[['resource_allocation']])\n",
    "df[['resource_allocation']] = imputer.transform(df[['resource_allocation']])"
   ]
  },
  {
   "cell_type": "code",
   "execution_count": 15,
   "id": "extreme-guess",
   "metadata": {},
   "outputs": [],
   "source": [
    "imputer2 = imputer.fit(df[['mental_fatigue_score']])\n",
    "df[['mental_fatigue_score']] = imputer2.transform(df[['mental_fatigue_score']])"
   ]
  },
  {
   "cell_type": "code",
   "execution_count": 16,
   "id": "minus-flower",
   "metadata": {},
   "outputs": [],
   "source": [
    "imputer3 = imputer.fit(df[['burn_rate']])\n",
    "df[['burn_rate']] = imputer.transform(df[['burn_rate']])"
   ]
  },
  {
   "cell_type": "code",
   "execution_count": 17,
   "id": "fatty-palace",
   "metadata": {},
   "outputs": [
    {
     "data": {
      "text/plain": [
       "employee_id             0\n",
       "date_of_joining         0\n",
       "gender                  0\n",
       "company_type            0\n",
       "wfh_setup_available     0\n",
       "designation             0\n",
       "resource_allocation     0\n",
       "mental_fatigue_score    0\n",
       "burn_rate               0\n",
       "dtype: int64"
      ]
     },
     "execution_count": 17,
     "metadata": {},
     "output_type": "execute_result"
    }
   ],
   "source": [
    "df.isna().sum()"
   ]
  },
  {
   "cell_type": "markdown",
   "id": "final-showcase",
   "metadata": {},
   "source": [
    "**SEPERATING 'Date of Joining' COLUMN**"
   ]
  },
  {
   "cell_type": "code",
   "execution_count": 18,
   "id": "dimensional-abraham",
   "metadata": {},
   "outputs": [],
   "source": [
    "df['date_of_joining'] = pd.to_datetime(df[\"date_of_joining\"])\n",
    "\n",
    "df[\"month_of_joining\"] = df[\"date_of_joining\"].dt.month_name()\n",
    "df[\"year_of_joining\"] = df[\"date_of_joining\"].dt.year\n",
    "df[\"day_of_joining\"] = df[\"date_of_joining\"].dt.day"
   ]
  },
  {
   "cell_type": "code",
   "execution_count": 19,
   "id": "changing-prague",
   "metadata": {},
   "outputs": [],
   "source": [
    "def move(x, y):\n",
    "    col = df.pop(x)\n",
    "    df.insert(y, x, col)\n",
    "    \n",
    "move(\"day_of_joining\", 1)\n",
    "move(\"month_of_joining\", 2)\n",
    "move(\"year_of_joining\", 3)"
   ]
  },
  {
   "cell_type": "code",
   "execution_count": 20,
   "id": "straight-iceland",
   "metadata": {},
   "outputs": [
    {
     "data": {
      "text/html": [
       "<div>\n",
       "<style scoped>\n",
       "    .dataframe tbody tr th:only-of-type {\n",
       "        vertical-align: middle;\n",
       "    }\n",
       "\n",
       "    .dataframe tbody tr th {\n",
       "        vertical-align: top;\n",
       "    }\n",
       "\n",
       "    .dataframe thead th {\n",
       "        text-align: right;\n",
       "    }\n",
       "</style>\n",
       "<table border=\"1\" class=\"dataframe\">\n",
       "  <thead>\n",
       "    <tr style=\"text-align: right;\">\n",
       "      <th></th>\n",
       "      <th>day_of_joining</th>\n",
       "      <th>month_of_joining</th>\n",
       "      <th>year_of_joining</th>\n",
       "      <th>gender</th>\n",
       "      <th>company_type</th>\n",
       "      <th>wfh_setup_available</th>\n",
       "      <th>designation</th>\n",
       "      <th>resource_allocation</th>\n",
       "      <th>mental_fatigue_score</th>\n",
       "      <th>burn_rate</th>\n",
       "    </tr>\n",
       "  </thead>\n",
       "  <tbody>\n",
       "    <tr>\n",
       "      <th>13569</th>\n",
       "      <td>3</td>\n",
       "      <td>October</td>\n",
       "      <td>2008</td>\n",
       "      <td>Male</td>\n",
       "      <td>Service</td>\n",
       "      <td>Yes</td>\n",
       "      <td>1.0</td>\n",
       "      <td>4.0</td>\n",
       "      <td>5.2</td>\n",
       "      <td>0.42</td>\n",
       "    </tr>\n",
       "    <tr>\n",
       "      <th>10813</th>\n",
       "      <td>13</td>\n",
       "      <td>April</td>\n",
       "      <td>2008</td>\n",
       "      <td>Male</td>\n",
       "      <td>Service</td>\n",
       "      <td>Yes</td>\n",
       "      <td>2.0</td>\n",
       "      <td>4.0</td>\n",
       "      <td>5.7</td>\n",
       "      <td>0.47</td>\n",
       "    </tr>\n",
       "    <tr>\n",
       "      <th>7255</th>\n",
       "      <td>10</td>\n",
       "      <td>March</td>\n",
       "      <td>2008</td>\n",
       "      <td>Male</td>\n",
       "      <td>Service</td>\n",
       "      <td>No</td>\n",
       "      <td>4.0</td>\n",
       "      <td>7.0</td>\n",
       "      <td>7.7</td>\n",
       "      <td>0.76</td>\n",
       "    </tr>\n",
       "    <tr>\n",
       "      <th>18769</th>\n",
       "      <td>23</td>\n",
       "      <td>November</td>\n",
       "      <td>2008</td>\n",
       "      <td>Male</td>\n",
       "      <td>Service</td>\n",
       "      <td>Yes</td>\n",
       "      <td>1.0</td>\n",
       "      <td>3.0</td>\n",
       "      <td>3.9</td>\n",
       "      <td>0.33</td>\n",
       "    </tr>\n",
       "    <tr>\n",
       "      <th>6859</th>\n",
       "      <td>14</td>\n",
       "      <td>June</td>\n",
       "      <td>2008</td>\n",
       "      <td>Female</td>\n",
       "      <td>Service</td>\n",
       "      <td>No</td>\n",
       "      <td>2.0</td>\n",
       "      <td>5.0</td>\n",
       "      <td>7.6</td>\n",
       "      <td>0.67</td>\n",
       "    </tr>\n",
       "  </tbody>\n",
       "</table>\n",
       "</div>"
      ],
      "text/plain": [
       "       day_of_joining month_of_joining  year_of_joining  gender company_type  \\\n",
       "13569               3          October             2008    Male      Service   \n",
       "10813              13            April             2008    Male      Service   \n",
       "7255               10            March             2008    Male      Service   \n",
       "18769              23         November             2008    Male      Service   \n",
       "6859               14             June             2008  Female      Service   \n",
       "\n",
       "      wfh_setup_available  designation  resource_allocation  \\\n",
       "13569                 Yes          1.0                  4.0   \n",
       "10813                 Yes          2.0                  4.0   \n",
       "7255                   No          4.0                  7.0   \n",
       "18769                 Yes          1.0                  3.0   \n",
       "6859                   No          2.0                  5.0   \n",
       "\n",
       "       mental_fatigue_score  burn_rate  \n",
       "13569                   5.2       0.42  \n",
       "10813                   5.7       0.47  \n",
       "7255                    7.7       0.76  \n",
       "18769                   3.9       0.33  \n",
       "6859                    7.6       0.67  "
      ]
     },
     "execution_count": 20,
     "metadata": {},
     "output_type": "execute_result"
    }
   ],
   "source": [
    "df.drop(['employee_id', 'date_of_joining'], axis = 1, inplace = True)\n",
    "df.sample(5)"
   ]
  },
  {
   "cell_type": "markdown",
   "id": "032c0732",
   "metadata": {},
   "source": [
    "**CHECKING FOR DUPLICATES**"
   ]
  },
  {
   "cell_type": "code",
   "execution_count": 21,
   "id": "aea90587",
   "metadata": {},
   "outputs": [
    {
     "data": {
      "text/plain": [
       "10"
      ]
     },
     "execution_count": 21,
     "metadata": {},
     "output_type": "execute_result"
    }
   ],
   "source": [
    "df.duplicated().sum()"
   ]
  },
  {
   "cell_type": "code",
   "execution_count": 22,
   "id": "17639aa6",
   "metadata": {},
   "outputs": [],
   "source": [
    "df.drop_duplicates(inplace=True)"
   ]
  },
  {
   "cell_type": "code",
   "execution_count": 23,
   "id": "648c0102",
   "metadata": {},
   "outputs": [
    {
     "data": {
      "text/plain": [
       "(22740, 10)"
      ]
     },
     "execution_count": 23,
     "metadata": {},
     "output_type": "execute_result"
    }
   ],
   "source": [
    "df.shape"
   ]
  },
  {
   "cell_type": "markdown",
   "id": "adjusted-delicious",
   "metadata": {},
   "source": [
    "## EXPLORATORY DATA ANALYSIS ON THE TRAIN DATA SET"
   ]
  },
  {
   "cell_type": "markdown",
   "id": "removed-valentine",
   "metadata": {},
   "source": [
    "> The EDA section seeks to understand and ivestigate the dataset. The following questions will be answered in this section"
   ]
  },
  {
   "cell_type": "code",
   "execution_count": 24,
   "id": "removable-africa",
   "metadata": {},
   "outputs": [],
   "source": [
    "# libaries to help with data visualization\n",
    "import matplotlib.pyplot as plt\n",
    "import seaborn as sns"
   ]
  },
  {
   "cell_type": "code",
   "execution_count": 25,
   "id": "developing-assumption",
   "metadata": {},
   "outputs": [],
   "source": [
    "## Creating a user defined function that returns the histogram and boxplot of a data feature\n",
    "\n",
    "def histogram_boxplot(data, feature, figsize=(15, 10)):\n",
    "    \"\"\"\n",
    "    Boxplot and histogram combined\n",
    "\n",
    "    data: dataframe\n",
    "    feature: dataframe column\n",
    "    figsize: size of figure (default (15,10))\n",
    "\n",
    "    \"\"\"\n",
    "    \n",
    "    f2, (ax_box2, ax_hist2) = plt.subplots(\n",
    "        nrows=2,  # Number of rows of the subplot grid= 2\n",
    "        sharex=True,  # x-axis will be shared among all subplots\n",
    "        gridspec_kw={\"height_ratios\": (0.15, 0.70)},\n",
    "        figsize=figsize)  \n",
    "    \n",
    "    # creating the 2 subplots\n",
    "    # boxplot will be created and a star will indicate the mean value of the column\n",
    "    sns.boxplot(data=data, x=feature, ax=ax_box2, showmeans=True, color=\"orange\")  \n",
    "    \n",
    "    #creating the histogram plot\n",
    "    sns.histplot(data=data, x=feature, ax=ax_hist2,) \n",
    "    \n",
    "    # Add mean to the histogram\n",
    "    ax_hist2.axvline(\n",
    "        data[feature].mean(), color=\"green\", linestyle=\"--\")  \n",
    "    #green line represents the mean\n",
    "    \n",
    "    # Add median to the histogram\n",
    "    ax_hist2.axvline(\n",
    "        data[feature].median(), color=\"black\", linestyle=\"-\") \n",
    "    #black line represents the median"
   ]
  },
  {
   "cell_type": "code",
   "execution_count": 26,
   "id": "orange-speaking",
   "metadata": {},
   "outputs": [],
   "source": [
    "# Creating a user defined function to create a labeled barplot of a data feature\n",
    "\n",
    "def labeled_barplot(data, feature, perc=True, n=None):\n",
    "    \"\"\"\n",
    "    Barplot with percentage at the top\n",
    "\n",
    "    data: dataframe\n",
    "    feature: dataframe column\n",
    "    perc: whether to display percentages instead of count (default is True)\n",
    "    n: displays the top n category levels (default is None, i.e., display all levels)\n",
    "    \"\"\"\n",
    "\n",
    "    total = len(data[feature])  # length of the column\n",
    "    count = data[feature].nunique() #number of unique values \n",
    "    if n is None:\n",
    "        plt.figure(figsize=(count + 2, 6))\n",
    "    else:\n",
    "        plt.figure(figsize=(n + 2, 6))\n",
    "\n",
    "    plt.xticks(rotation=90, fontsize=15)\n",
    "    ax = sns.countplot( data=data, x=feature, palette=\"Paired\")\n",
    "\n",
    "    for p in ax.patches:\n",
    "        if perc == True:\n",
    "            label = \"{:.1f}%\".format(100 * p.get_height() / total )  # percentage of each class of the category\n",
    "        else:\n",
    "            label = p.get_height()  # count of each level of the category\n",
    "\n",
    "        x = p.get_x() + p.get_width() / 2  # width of the plot\n",
    "        y = p.get_height()  # height of the plot\n",
    "\n",
    "        ax.annotate(\n",
    "            label,\n",
    "            (x, y),\n",
    "            ha=\"center\",\n",
    "            va=\"center\",\n",
    "            size=12,\n",
    "            xytext=(0, 5),\n",
    "            textcoords=\"offset points\",\n",
    "        )  # annotate the percentage\n",
    "\n",
    "    plt.show()  # show the plot"
   ]
  },
  {
   "cell_type": "code",
   "execution_count": null,
   "id": "purple-phoenix",
   "metadata": {},
   "outputs": [],
   "source": []
  },
  {
   "cell_type": "markdown",
   "id": "ambient-string",
   "metadata": {},
   "source": [
    "### **QUESTION 1: What is the distribution of all the variables**"
   ]
  },
  {
   "cell_type": "markdown",
   "id": "executive-choice",
   "metadata": {},
   "source": [
    "##### Distribution of the burn rate of employees"
   ]
  },
  {
   "cell_type": "code",
   "execution_count": 27,
   "id": "accredited-measure",
   "metadata": {},
   "outputs": [
    {
     "data": {
      "image/png": "[encoded data removed]",
      "text/plain": [
       "<Figure size 1080x720 with 2 Axes>"
      ]
     },
     "metadata": {
      "needs_background": "light"
     },
     "output_type": "display_data"
    }
   ],
   "source": [
    "#Distribution of the burn rate of employees\n",
    "histogram_boxplot(df,'burn_rate')"
   ]
  },
  {
   "cell_type": "markdown",
   "id": "received-broadway",
   "metadata": {},
   "source": [
    "##### OBSERVATION\n",
    "> - The burn rate of employees ranges mainly from 0 to 1, with very few outliers. This low burn rate implies that on an average employees do not burn out\n",
    "\n",
    "\n",
    "> - The data is almost normally distributed with the mean not being so far from the median."
   ]
  },
  {
   "cell_type": "markdown",
   "id": "turkish-happiness",
   "metadata": {},
   "source": [
    "##### Distribution of the mental fatigue of employees"
   ]
  },
  {
   "cell_type": "code",
   "execution_count": 28,
   "id": "nasty-inflation",
   "metadata": {},
   "outputs": [
    {
     "data": {
      "image/png": "[encoded data removed]",
      "text/plain": [
       "<Figure size 1080x720 with 2 Axes>"
      ]
     },
     "metadata": {
      "needs_background": "light"
     },
     "output_type": "display_data"
    }
   ],
   "source": [
    "#distribution of the mental fatigue of employees\n",
    "histogram_boxplot(df,'mental_fatigue_score')"
   ]
  },
  {
   "cell_type": "markdown",
   "id": "satisfactory-planet",
   "metadata": {},
   "source": [
    "##### OBSERVATION\n",
    "> - the mental fatigue distribution of employees shows a normal distribution with mean and median of 5.6. Indicating that on an average employees tend to have a mental fatigue score of 5.6\n",
    "\n",
    "\n",
    "> - A good number of employees have a fatigue score between 4 and 8"
   ]
  },
  {
   "cell_type": "markdown",
   "id": "sexual-crawford",
   "metadata": {},
   "source": [
    "##### Distribution of the resource allocation of employees (number of working hours)"
   ]
  },
  {
   "cell_type": "code",
   "execution_count": 29,
   "id": "great-resort",
   "metadata": {},
   "outputs": [
    {
     "data": {
      "image/png": "[encoded data removed]",
      "text/plain": [
       "<Figure size 1080x720 with 2 Axes>"
      ]
     },
     "metadata": {
      "needs_background": "light"
     },
     "output_type": "display_data"
    }
   ],
   "source": [
    "#distribution of the resource allocation of employees (number of working hours)\n",
    "histogram_boxplot(df,'resource_allocation')"
   ]
  },
  {
   "cell_type": "markdown",
   "id": "dried-richardson",
   "metadata": {},
   "source": [
    "##### OBSERVATION\n",
    "> - The average time an employee works is around 4.4 hours\n",
    "\n",
    "> - Very few employees work from 8 to 10 hours and more employees work for 4 to 5 hours"
   ]
  },
  {
   "cell_type": "markdown",
   "id": "responsible-hopkins",
   "metadata": {},
   "source": [
    "##### Distribution of the designation of employees"
   ]
  },
  {
   "cell_type": "code",
   "execution_count": 30,
   "id": "warming-drove",
   "metadata": {},
   "outputs": [
    {
     "data": {
      "image/png": "[encoded data removed]",
      "text/plain": [
       "<Figure size 576x432 with 1 Axes>"
      ]
     },
     "metadata": {
      "needs_background": "light"
     },
     "output_type": "display_data"
    }
   ],
   "source": [
    "# distribution of the designation of employees\n",
    "labeled_barplot(df,'designation')"
   ]
  },
  {
   "cell_type": "markdown",
   "id": "dress-parcel",
   "metadata": {},
   "source": [
    "##### OBSERVATION\n",
    "> - Very few employees have reached a designation of 5 and very few are on the lowest designation also\n",
    "\n",
    "> - Majorly, employees fall under designation of 2 and 3"
   ]
  },
  {
   "cell_type": "markdown",
   "id": "lovely-things",
   "metadata": {},
   "source": [
    "##### Distribution of the work from home facility of employees"
   ]
  },
  {
   "cell_type": "code",
   "execution_count": 31,
   "id": "enhanced-irrigation",
   "metadata": {},
   "outputs": [
    {
     "data": {
      "image/png": "[encoded data removed]",
      "text/plain": [
       "<Figure size 288x432 with 1 Axes>"
      ]
     },
     "metadata": {
      "needs_background": "light"
     },
     "output_type": "display_data"
    }
   ],
   "source": [
    "#distribution of the work from home facility of employees\n",
    "labeled_barplot(df,'wfh_setup_available')"
   ]
  },
  {
   "cell_type": "markdown",
   "id": "alike-draft",
   "metadata": {},
   "source": [
    "##### OBSERVATION\n",
    "> - 54% of the entire employees have the work from home facility available and 46% do not.\n"
   ]
  },
  {
   "cell_type": "markdown",
   "id": "mounted-christianity",
   "metadata": {},
   "source": [
    "##### Checking the various company types in the dataset"
   ]
  },
  {
   "cell_type": "code",
   "execution_count": 32,
   "id": "exempt-valve",
   "metadata": {},
   "outputs": [
    {
     "data": {
      "image/png": "[encoded data removed]",
      "text/plain": [
       "<Figure size 288x432 with 1 Axes>"
      ]
     },
     "metadata": {
      "needs_background": "light"
     },
     "output_type": "display_data"
    }
   ],
   "source": [
    "#checking the various company types in the dataset\n",
    "labeled_barplot(df,'company_type')"
   ]
  },
  {
   "cell_type": "markdown",
   "id": "regional-least",
   "metadata": {},
   "source": [
    "##### OBSERVATION\n",
    "> - There are only two company types(service and product)\n",
    "> - Over 65% of employees work in the service company type.\n",
    "> - Abou4 35% work in the product company type.\n"
   ]
  },
  {
   "cell_type": "markdown",
   "id": "eligible-warning",
   "metadata": {},
   "source": [
    "##### Checking the distribution of gender"
   ]
  },
  {
   "cell_type": "code",
   "execution_count": 33,
   "id": "greatest-breakdown",
   "metadata": {},
   "outputs": [
    {
     "data": {
      "image/png": "[encoded data removed]",
      "text/plain": [
       "<Figure size 288x432 with 1 Axes>"
      ]
     },
     "metadata": {
      "needs_background": "light"
     },
     "output_type": "display_data"
    }
   ],
   "source": [
    "#Checking the distribution of gender\n",
    "labeled_barplot(df,'gender')"
   ]
  },
  {
   "cell_type": "markdown",
   "id": "nasty-apache",
   "metadata": {},
   "source": [
    "##### OBSERVATION\n",
    "> - Over 52% of employees are females\n"
   ]
  },
  {
   "cell_type": "markdown",
   "id": "environmental-israel",
   "metadata": {},
   "source": [
    "##### Which month had the highest number of employees join a company"
   ]
  },
  {
   "cell_type": "code",
   "execution_count": 34,
   "id": "secondary-debut",
   "metadata": {},
   "outputs": [
    {
     "data": {
      "image/png": "[encoded data removed]",
      "text/plain": [
       "<Figure size 1008x432 with 1 Axes>"
      ]
     },
     "metadata": {
      "needs_background": "light"
     },
     "output_type": "display_data"
    }
   ],
   "source": [
    "#Which month had the highest number of employees join a company\n",
    "labeled_barplot(df,'month_of_joining',perc=False)"
   ]
  },
  {
   "cell_type": "markdown",
   "id": "attractive-february",
   "metadata": {},
   "source": [
    "##### OBSERVATION\n",
    "> - Most employees joined in August and October( a total of 1970 employees)\n",
    "\n",
    "> - Followed by September,\n"
   ]
  },
  {
   "cell_type": "markdown",
   "id": "otherwise-marker",
   "metadata": {},
   "source": [
    "##### What is the year distribution of the dataset"
   ]
  },
  {
   "cell_type": "code",
   "execution_count": 35,
   "id": "outer-elizabeth",
   "metadata": {},
   "outputs": [
    {
     "data": {
      "image/png": "[encoded data removed]",
      "text/plain": [
       "<Figure size 216x432 with 1 Axes>"
      ]
     },
     "metadata": {
      "needs_background": "light"
     },
     "output_type": "display_data"
    }
   ],
   "source": [
    "labeled_barplot(df,'year_of_joining')"
   ]
  },
  {
   "cell_type": "markdown",
   "id": "eleven-myanmar",
   "metadata": {},
   "source": [
    "##### OBSERVATION\n",
    "> - The dataset constitute of only the year 2008"
   ]
  },
  {
   "cell_type": "markdown",
   "id": "administrative-laser",
   "metadata": {},
   "source": [
    "### QUESTION 2: How does the independent variable relate to the response variable (burn rate)"
   ]
  },
  {
   "cell_type": "code",
   "execution_count": 36,
   "id": "nearby-medicaid",
   "metadata": {},
   "outputs": [],
   "source": [
    "# creating a user defined function to perform a bivariate analysis on continuis variables\n",
    "def joint_plot (data, predictor, target):\n",
    "    \n",
    "    \"\"\"\n",
    "    Returns a histogram plot and a scatter plot of the independent and dependent variable in the dataset\n",
    "\n",
    "    data: dataframe\n",
    "    predictor: independent variable\n",
    "    target: dependent variable/ response variable\n",
    "    \"\"\"\n",
    "        \n",
    "    sns.jointplot(data=data,x=predictor,y=target,color=\"teal\", height =8,kind='scatter')\n",
    "    plt.show()\n",
    "    "
   ]
  },
  {
   "cell_type": "code",
   "execution_count": 37,
   "id": "psychological-honduras",
   "metadata": {},
   "outputs": [],
   "source": [
    "# creating a user defined function to perform a bivariate analysis on a continuous and discrete or categorical variable\n",
    "def bar_plot(data, predictor, target):\n",
    "    \"\"\"\n",
    "    Returns a bar plot of the independent and dependent variable in the dataset\n",
    "\n",
    "    data: dataframe\n",
    "    predictor: independent variable\n",
    "    target: dependent variable/ response variable\n",
    "    \"\"\"\n",
    "    \n",
    "    plt.figure(figsize = (15,5))\n",
    "    sns.barplot(data=data,x=predictor,y=target,ci=False)\n",
    "    plt.xticks(rotation=90)\n",
    "    plt.show()"
   ]
  },
  {
   "cell_type": "code",
   "execution_count": 38,
   "id": "textile-alabama",
   "metadata": {},
   "outputs": [],
   "source": [
    "# creating a user defined function to perform a multivariate analysis on a continuous and discrete or categorical variable\n",
    "def multi_plot(data, predictor, target,hue):\n",
    "    \"\"\"\n",
    "    Returns a bar plot of multivariate variable in the dataset\n",
    "\n",
    "    data: dataframe\n",
    "    predictor: independent variable\n",
    "    target: dependent variable/ response variable\n",
    "    hue: hue fo the plot\n",
    "    \"\"\"\n",
    "    plt.figure(figsize=(10,5))\n",
    "    sns.barplot(data=data, x=predictor, y=target, hue=hue, ci=False , palette=\"magma\" )\n",
    "    plt.xticks(rotation=90)\n",
    "    plt.show()"
   ]
  },
  {
   "cell_type": "markdown",
   "id": "considered-trick",
   "metadata": {},
   "source": [
    "##### Mental fatigue vs burn rate"
   ]
  },
  {
   "cell_type": "code",
   "execution_count": 39,
   "id": "female-italian",
   "metadata": {},
   "outputs": [
    {
     "data": {
      "image/png": "[encoded data removed]",
      "text/plain": [
       "<Figure size 576x576 with 3 Axes>"
      ]
     },
     "metadata": {
      "needs_background": "light"
     },
     "output_type": "display_data"
    }
   ],
   "source": [
    "#Mental fatigue vs burn rate\n",
    "joint_plot(df,'mental_fatigue_score','burn_rate')"
   ]
  },
  {
   "cell_type": "markdown",
   "id": "humanitarian-fluid",
   "metadata": {},
   "source": [
    "##### OBSERVATION\n",
    "\n",
    "> - There seems to be an almost positive linear relationship between mental fatigue and burn rate. Implying as one increases, the other also increases."
   ]
  },
  {
   "cell_type": "markdown",
   "id": "psychological-chester",
   "metadata": {},
   "source": [
    "##### Resource allocation vs Burn rate\n"
   ]
  },
  {
   "cell_type": "code",
   "execution_count": 40,
   "id": "biological-cardiff",
   "metadata": {},
   "outputs": [
    {
     "data": {
      "image/png": "[encoded data removed]",
      "text/plain": [
       "<Figure size 1080x360 with 1 Axes>"
      ]
     },
     "metadata": {
      "needs_background": "light"
     },
     "output_type": "display_data"
    }
   ],
   "source": [
    "#resource allocation vs burn rate\n",
    "bar_plot(df,'resource_allocation','burn_rate')"
   ]
  },
  {
   "cell_type": "markdown",
   "id": "relative-sperm",
   "metadata": {},
   "source": [
    "##### OBSERVATION\n",
    "\n",
    "> - From the above plot, it is easy to tell that the higher the resource allocation (number of working hours) of an employee, the higher the burn rate. \n"
   ]
  },
  {
   "cell_type": "markdown",
   "id": "subsequent-serbia",
   "metadata": {},
   "source": [
    "##### Designation vs Burn rate"
   ]
  },
  {
   "cell_type": "code",
   "execution_count": 41,
   "id": "durable-thumb",
   "metadata": {},
   "outputs": [
    {
     "data": {
      "image/png": "[encoded data removed]",
      "text/plain": [
       "<Figure size 1080x360 with 1 Axes>"
      ]
     },
     "metadata": {
      "needs_background": "light"
     },
     "output_type": "display_data"
    }
   ],
   "source": [
    "# Designation vs Burn rate\n",
    "bar_plot(df,'designation','burn_rate')"
   ]
  },
  {
   "cell_type": "markdown",
   "id": "robust-ferry",
   "metadata": {},
   "source": [
    "##### OBSERVATION\n",
    "\n",
    "> - From the above plot, it is easy to tell that the higher the designation (rank) of an employee, the higher the burn rate. "
   ]
  },
  {
   "cell_type": "markdown",
   "id": "substantial-catch",
   "metadata": {},
   "source": [
    "##### Wfh_setup_available vs Burn rate"
   ]
  },
  {
   "cell_type": "code",
   "execution_count": 42,
   "id": "median-wyoming",
   "metadata": {},
   "outputs": [
    {
     "data": {
      "image/png": "[encoded data removed]",
      "text/plain": [
       "<Figure size 1080x360 with 1 Axes>"
      ]
     },
     "metadata": {
      "needs_background": "light"
     },
     "output_type": "display_data"
    }
   ],
   "source": [
    "# Wfh_setup_available vs Burn rate\n",
    "bar_plot(df,'wfh_setup_available','burn_rate')"
   ]
  },
  {
   "cell_type": "markdown",
   "id": "invisible-driver",
   "metadata": {},
   "source": [
    "##### OBSERVATION\n",
    "\n",
    "> - Employees without a work from home setup available tend to burn out more than employees with a work from home option"
   ]
  },
  {
   "cell_type": "markdown",
   "id": "caring-fisher",
   "metadata": {},
   "source": [
    "##### Company type vs Burn out"
   ]
  },
  {
   "cell_type": "code",
   "execution_count": 43,
   "id": "plain-luther",
   "metadata": {},
   "outputs": [
    {
     "data": {
      "image/png": "[encoded data removed]",
      "text/plain": [
       "<Figure size 1080x360 with 1 Axes>"
      ]
     },
     "metadata": {
      "needs_background": "light"
     },
     "output_type": "display_data"
    }
   ],
   "source": [
    "#Company type vs Burn out\n",
    "bar_plot(df,'company_type','burn_rate')"
   ]
  },
  {
   "cell_type": "markdown",
   "id": "obvious-excerpt",
   "metadata": {},
   "source": [
    "##### OBSERVATION\n",
    "\n",
    "> - The rate of burn out across the various company types is almost negligible."
   ]
  },
  {
   "cell_type": "markdown",
   "id": "distinct-folks",
   "metadata": {},
   "source": [
    "##### Gender vs burn rate"
   ]
  },
  {
   "cell_type": "code",
   "execution_count": 44,
   "id": "comic-olive",
   "metadata": {},
   "outputs": [
    {
     "data": {
      "image/png": "[encoded data removed]",
      "text/plain": [
       "<Figure size 1080x360 with 1 Axes>"
      ]
     },
     "metadata": {
      "needs_background": "light"
     },
     "output_type": "display_data"
    }
   ],
   "source": [
    "bar_plot(df,'gender','burn_rate')"
   ]
  },
  {
   "cell_type": "markdown",
   "id": "orange-playing",
   "metadata": {},
   "source": [
    "##### OBSERVATION\n",
    "\n",
    "> - Males tend to burn out more than females."
   ]
  },
  {
   "cell_type": "markdown",
   "id": "inside-recommendation",
   "metadata": {},
   "source": [
    "### QUESTION 3: Across the different company type, which gender burns out more?"
   ]
  },
  {
   "cell_type": "code",
   "execution_count": 45,
   "id": "presidential-internship",
   "metadata": {},
   "outputs": [
    {
     "data": {
      "image/png": "[encoded data removed]",
      "text/plain": [
       "<Figure size 720x360 with 1 Axes>"
      ]
     },
     "metadata": {
      "needs_background": "light"
     },
     "output_type": "display_data"
    }
   ],
   "source": [
    "multi_plot(df, 'gender', 'burn_rate', 'company_type',)"
   ]
  },
  {
   "cell_type": "markdown",
   "id": "bizarre-cambridge",
   "metadata": {},
   "source": [
    "##### OBSERVATION\n",
    "\n",
    "> - The rate of burn out for the male gender is the same across the company type\n",
    "\n",
    "> - The rate of burn out for the female gender is negligble across the company type "
   ]
  },
  {
   "cell_type": "markdown",
   "id": "plastic-quick",
   "metadata": {},
   "source": [
    "### QUESTION 4: Is there any gender discrimination regarding the work from home facility provided across the different company types?"
   ]
  },
  {
   "cell_type": "code",
   "execution_count": 46,
   "id": "prepared-oxford",
   "metadata": {},
   "outputs": [
    {
     "data": {
      "image/png": "[encoded data removed]",
      "text/plain": [
       "<Figure size 720x360 with 1 Axes>"
      ]
     },
     "metadata": {
      "needs_background": "light"
     },
     "output_type": "display_data"
    }
   ],
   "source": [
    "plt.figure(figsize=(10,5))\n",
    "df.groupby(['company_type','gender'])['wfh_setup_available'].count().plot(kind='bar', color='salmon');"
   ]
  },
  {
   "cell_type": "markdown",
   "id": "average-battle",
   "metadata": {},
   "source": [
    "##### OBSERVATION\n",
    "\n",
    "> - Considering that the ratio of females to male is greater in the entire dataset, we can not objectively say that there is any gender discrimination in the work from home set up across the company types."
   ]
  },
  {
   "cell_type": "markdown",
   "id": "addressed-conditioning",
   "metadata": {},
   "source": [
    "### QUESTION 5: Is the resource allocation equal for both genders across the different company types?"
   ]
  },
  {
   "cell_type": "code",
   "execution_count": 47,
   "id": "natural-royalty",
   "metadata": {},
   "outputs": [
    {
     "data": {
      "image/png": "[encoded data removed]",
      "text/plain": [
       "<Figure size 720x360 with 1 Axes>"
      ]
     },
     "metadata": {
      "needs_background": "light"
     },
     "output_type": "display_data"
    }
   ],
   "source": [
    "plt.figure(figsize=(10,5))\n",
    "df.groupby(['company_type','gender'])['resource_allocation'].mean().plot(kind='bar', color='grey');"
   ]
  },
  {
   "cell_type": "markdown",
   "id": "delayed-brake",
   "metadata": {},
   "source": [
    "##### OBSERVATION\n",
    "\n",
    "> - Across the different company types, on an average, it seems the male employees tend to work more hours a little above  the female employees."
   ]
  },
  {
   "cell_type": "markdown",
   "id": "trained-drunk",
   "metadata": {},
   "source": [
    "### QUESTION 6: Which company type suffers more mental fatigue"
   ]
  },
  {
   "cell_type": "code",
   "execution_count": 48,
   "id": "turned-lease",
   "metadata": {},
   "outputs": [
    {
     "data": {
      "text/plain": [
       "<AxesSubplot:xlabel='company_type'>"
      ]
     },
     "execution_count": 48,
     "metadata": {},
     "output_type": "execute_result"
    },
    {
     "data": {
      "image/png": "[encoded data removed]",
      "text/plain": [
       "<Figure size 720x360 with 1 Axes>"
      ]
     },
     "metadata": {
      "needs_background": "light"
     },
     "output_type": "display_data"
    }
   ],
   "source": [
    "plt.figure(figsize=(10,5))\n",
    "df.groupby('company_type')['mental_fatigue_score'].mean().plot(kind='bar')"
   ]
  },
  {
   "cell_type": "markdown",
   "id": "contemporary-mauritius",
   "metadata": {},
   "source": [
    "##### OBSERVATION\n",
    "\n",
    "> - Across the different company types, on an average, it seems the mental fatigue rate is the same."
   ]
  },
  {
   "cell_type": "markdown",
   "id": "terminal-novel",
   "metadata": {},
   "source": [
    "### QUESTION 7: What is the relationship like across the independent variables"
   ]
  },
  {
   "cell_type": "code",
   "execution_count": 49,
   "id": "rural-penetration",
   "metadata": {},
   "outputs": [
    {
     "data": {
      "image/png": "[encoded data removed]",
      "text/plain": [
       "<Figure size 1440x720 with 2 Axes>"
      ]
     },
     "metadata": {
      "needs_background": "light"
     },
     "output_type": "display_data"
    }
   ],
   "source": [
    "# Using a heatmap to view the correlation between variables\n",
    "plt.figure(figsize=(20,10))\n",
    "sns.heatmap(df.drop('year_of_joining',axis=1).corr(),vmin=-0.5,vmax=0.5,annot=True,fmt='.2f',cmap=\"Spectral\")\n",
    "plt.show()"
   ]
  },
  {
   "cell_type": "markdown",
   "id": "color-spell",
   "metadata": {},
   "source": [
    "##### OBSERVATION\n",
    "\n",
    "> - Multi collinearity is most likely present as the independent variables have a strong correlation to each other.\n",
    "\n",
    "> - Designation, resource allocation and mental fatigue are highly correlated to each other.\n",
    "\n",
    "> - Burn rate also has a high correlation to the 3 mentioned above variables\n",
    "\n",
    "> - Note that correlation does not imply causation."
   ]
  },
  {
   "cell_type": "code",
   "execution_count": null,
   "id": "referenced-arbor",
   "metadata": {},
   "outputs": [],
   "source": []
  }
 ],
 "metadata": {
  "kernelspec": {
   "display_name": "Python 3",
   "language": "python",
   "name": "python3"
  },
  "language_info": {
   "codemirror_mode": {
    "name": "ipython",
    "version": 3
   },
   "file_extension": ".py",
   "mimetype": "text/x-python",
   "name": "python",
   "nbconvert_exporter": "python",
   "pygments_lexer": "ipython3",
   "version": "3.8.3"
  }
 },
 "nbformat": 4,
 "nbformat_minor": 5
}
